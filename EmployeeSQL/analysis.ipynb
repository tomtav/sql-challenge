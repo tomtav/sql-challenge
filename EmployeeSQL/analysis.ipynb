{
 "cells": [
  {
   "cell_type": "markdown",
   "metadata": {},
   "source": [
    "### Import Dependencies"
   ]
  },
  {
   "cell_type": "code",
   "execution_count": 1,
   "metadata": {},
   "outputs": [],
   "source": [
    "# statistical analysis\n",
    "import pandas as pd\n",
    "import numpy as np\n",
    "\n",
    "# database interaction\n",
    "import sqlalchemy\n",
    "from sqlalchemy.ext.automap import automap_base\n",
    "from sqlalchemy.ext.declarative import declarative_base\n",
    "from sqlalchemy import MetaData, Table, Column, Integer, String, Date, ForeignKey\n",
    "from sqlalchemy.orm import Session, relationship, mapper\n",
    "from sqlalchemy import create_engine\n",
    "\n",
    "# Load configuration\n",
    "from config import DATABASE_URI"
   ]
  },
  {
   "cell_type": "markdown",
   "metadata": {},
   "source": [
    "### Database Setup"
   ]
  },
  {
   "cell_type": "code",
   "execution_count": 2,
   "metadata": {},
   "outputs": [],
   "source": [
    "# create a database connection\n",
    "engine = create_engine(DATABASE_URI)"
   ]
  },
  {
   "cell_type": "code",
   "execution_count": 3,
   "metadata": {},
   "outputs": [],
   "source": [
    "# connect to database\n",
    "con = engine.connect()"
   ]
  },
  {
   "cell_type": "code",
   "execution_count": 4,
   "metadata": {},
   "outputs": [],
   "source": [
    "# create MetaData object\n",
    "metadata = MetaData()"
   ]
  },
  {
   "cell_type": "code",
   "execution_count": 5,
   "metadata": {},
   "outputs": [],
   "source": [
    "# reflect an existing database into a new model\n",
    "Model = automap_base(metadata=metadata)"
   ]
  },
  {
   "cell_type": "code",
   "execution_count": 6,
   "metadata": {},
   "outputs": [
    {
     "data": {
      "text/plain": [
       "<Mapper at 0x118b28350; EmpTitle>"
      ]
     },
     "execution_count": 6,
     "metadata": {},
     "output_type": "execute_result"
    }
   ],
   "source": [
    "# create python classes by extending the existing database models\n",
    "# use a nicer representation of the class instances\n",
    "\n",
    "class Employee(Model):\n",
    "    __tablename__ = 'employees'\n",
    "    \n",
    "    def __repr__(self):\n",
    "        return \"<{}(emp_no='{}', first_name='{}', last_name='{}', birth_date='{}', gender='{}', hire_date='{}')>\"\\\n",
    "                .format(self.__class__.__name__, self.emp_no, self.first_name, self.last_name, self.birth_date, self.gender, self.hire_date)\n",
    "\n",
    "class Department(Model):\n",
    "    __tablename__ = 'departments'\n",
    "    \n",
    "    def __repr__(self):\n",
    "        return \"<{}(dept_no='{}', dept_name='{}')>\".format(self.__class__.__name__, self.dept_no, self.dept_name)\n",
    "\n",
    "        \n",
    "class DeptEmp(Model):\n",
    "    __tablename__ = 'dept_emp'\n",
    "    \n",
    "    def __repr__(self):\n",
    "        return \"<{}(emp_no='{}', dept_no='{}', from_date='{}', to_date='{}')>\"\\\n",
    "                .format(self.__class__.__name__, self.emp_no, self.dept_no, self.from_date, self.to_date)\n",
    "    \n",
    "class DeptMgr(Model):\n",
    "    __tablename__ = 'dept_manager'\n",
    "    \n",
    "    def __repr__(self):\n",
    "        return \"<{}(dept_no='{}', emp_no='{}', from_date='{}', to_date='{}')>\"\\\n",
    "                .format(self.__class__.__name__, self.dept_no, self.emp_no, self.from_date, self.to_date)\n",
    "\n",
    "class Salary(Model):\n",
    "    __tablename__ = 'salaries'\n",
    "    emp_no = Column(Integer, ForeignKey('employees.emp_no'), primary_key=True, nullable=False)\n",
    "    \n",
    "    def __repr__(self):\n",
    "        return \"<{}(emp_no='{}', salary='{}', from_date='{}', to_date='{}')>\"\\\n",
    "                .format(self.__class__.__name__, self.emp_no, self.salary, self.from_date, self.to_date)\n",
    "    \n",
    "class Title(Model):\n",
    "    __tablename__ = 'titles'\n",
    "    \n",
    "    def __repr__(self):\n",
    "        return \"<{}(emp_no='{}', title='{}', from_date='{}', to_date='{}')>\"\\\n",
    "                .format(self.__class__.__name__, self.emp_no, self.title, self.from_date, self.to_date)\n",
    "\n",
    "# create view schema\n",
    "empdeptdate = Table('emp_dept_date', metadata, \n",
    "                    Column('emp_no', Integer, ForeignKey('employees.emp_no'), primary_key=True, nullable=False), \n",
    "                    autoload_with=engine)\n",
    "\n",
    "# create view ORM class\n",
    "class EmpDeptDate(object):\n",
    "    __tablename__ = 'emp_dept_date'\n",
    "    emp_no = Column(Integer, ForeignKey('employees.emp_no'), primary_key=True, nullable=False)\n",
    "    \n",
    "    def __repr__(self):\n",
    "        return \"<{}(emp_no='{}', date='{}')>\"\\\n",
    "                .format(self.__class__.__name__, self.emp_no, self.date)\n",
    "\n",
    "# associate the view schema with the ORM class\n",
    "mapper(EmpDeptDate, empdeptdate)\n",
    "\n",
    "# create view schema\n",
    "emptitle = Table('emp_title', metadata,\n",
    "                 Column('emp_no', Integer, ForeignKey('employees.emp_no'), primary_key=True, nullable=False), \n",
    "                 autoload_with=engine)\n",
    "\n",
    "# create view ORM class\n",
    "class EmpTitle(object):\n",
    "    __tablename__ = 'emp_title'\n",
    "    emp_no = Column(Integer, ForeignKey('employees.emp_no'), primary_key=True, nullable=False)\n",
    "    \n",
    "    def __repr__(self):\n",
    "        return \"<{}(emp_no='{}', date='{}')>\"\\\n",
    "                .format(self.__class__.__name__, self.emp_no, self.date)\n",
    "\n",
    "# associate the view schema with the ORM class\n",
    "mapper(EmpTitle, emptitle)\n",
    "print()"
   ]
  },
  {
   "cell_type": "code",
   "execution_count": 7,
   "metadata": {},
   "outputs": [],
   "source": [
    "# use the Model class to reflect the database tables into ORM classes\n",
    "Model.prepare(engine, reflect=True)"
   ]
  },
  {
   "cell_type": "code",
   "execution_count": 8,
   "metadata": {},
   "outputs": [],
   "source": [
    "# create database session\n",
    "session = Session(engine)"
   ]
  },
  {
   "cell_type": "markdown",
   "metadata": {},
   "source": [
    "### Loading DataFrame Using SQLAlchemy\n",
    "( is much slower than using a SQL query directly with pandas )"
   ]
  },
  {
   "cell_type": "code",
   "execution_count": 9,
   "metadata": {},
   "outputs": [],
   "source": [
    "# use the session to query the database and create a pandas dataframe\n",
    "df = pd.DataFrame([ (row.Employee.emp_no, row.Employee.last_name,row.Employee.first_name,row.Title.title,row.Department.dept_name,row.Salary.salary,row.Salary.from_date,row.Salary.to_date) for row in session.query(DeptEmp, Employee, Department, Salary, Title).\\\n",
    "    join(Employee, Employee.emp_no == DeptEmp.emp_no).\\\n",
    "    join(Department, Department.dept_no == DeptEmp.dept_no).\\\n",
    "    join(Salary, Salary.emp_no == DeptEmp.emp_no).\\\n",
    "    join(EmpDeptDate, EmpDeptDate.emp_no == DeptEmp.emp_no).\\\n",
    "    join(Title, Title.emp_no == DeptEmp.emp_no).\\\n",
    "    join(EmpTitle, EmpTitle.emp_no == Title.emp_no).\\\n",
    "    filter(EmpDeptDate.date == DeptEmp.to_date).\\\n",
    "    filter(EmpTitle.date == Title.to_date).\\\n",
    "    all() ], columns=['employee_no','last_name', 'first_name', 'title', 'department', 'salary', 'start_date', 'end_date'])"
   ]
  },
  {
   "cell_type": "code",
   "execution_count": 10,
   "metadata": {},
   "outputs": [
    {
     "name": "stdout",
     "output_type": "stream",
     "text": [
      "(300033, 8)\n"
     ]
    },
    {
     "data": {
      "text/html": [
       "<div>\n",
       "<style scoped>\n",
       "    .dataframe tbody tr th:only-of-type {\n",
       "        vertical-align: middle;\n",
       "    }\n",
       "\n",
       "    .dataframe tbody tr th {\n",
       "        vertical-align: top;\n",
       "    }\n",
       "\n",
       "    .dataframe thead th {\n",
       "        text-align: right;\n",
       "    }\n",
       "</style>\n",
       "<table border=\"1\" class=\"dataframe\">\n",
       "  <thead>\n",
       "    <tr style=\"text-align: right;\">\n",
       "      <th></th>\n",
       "      <th>employee_no</th>\n",
       "      <th>last_name</th>\n",
       "      <th>first_name</th>\n",
       "      <th>title</th>\n",
       "      <th>department</th>\n",
       "      <th>salary</th>\n",
       "      <th>start_date</th>\n",
       "      <th>end_date</th>\n",
       "    </tr>\n",
       "  </thead>\n",
       "  <tbody>\n",
       "    <tr>\n",
       "      <th>0</th>\n",
       "      <td>10001</td>\n",
       "      <td>Facello</td>\n",
       "      <td>Georgi</td>\n",
       "      <td>Senior Engineer</td>\n",
       "      <td>Development</td>\n",
       "      <td>60117</td>\n",
       "      <td>1986-06-26</td>\n",
       "      <td>1987-06-26</td>\n",
       "    </tr>\n",
       "    <tr>\n",
       "      <th>1</th>\n",
       "      <td>10004</td>\n",
       "      <td>Koblick</td>\n",
       "      <td>Chirstian</td>\n",
       "      <td>Senior Engineer</td>\n",
       "      <td>Production</td>\n",
       "      <td>40054</td>\n",
       "      <td>1986-12-01</td>\n",
       "      <td>1987-12-01</td>\n",
       "    </tr>\n",
       "    <tr>\n",
       "      <th>2</th>\n",
       "      <td>10008</td>\n",
       "      <td>Kalloufi</td>\n",
       "      <td>Saniya</td>\n",
       "      <td>Assistant Engineer</td>\n",
       "      <td>Development</td>\n",
       "      <td>46671</td>\n",
       "      <td>1998-03-11</td>\n",
       "      <td>1999-03-11</td>\n",
       "    </tr>\n",
       "    <tr>\n",
       "      <th>3</th>\n",
       "      <td>10012</td>\n",
       "      <td>Bridgland</td>\n",
       "      <td>Patricio</td>\n",
       "      <td>Senior Engineer</td>\n",
       "      <td>Development</td>\n",
       "      <td>40000</td>\n",
       "      <td>1992-12-18</td>\n",
       "      <td>1993-12-18</td>\n",
       "    </tr>\n",
       "    <tr>\n",
       "      <th>4</th>\n",
       "      <td>10015</td>\n",
       "      <td>Nooteboom</td>\n",
       "      <td>Guoxiang</td>\n",
       "      <td>Senior Staff</td>\n",
       "      <td>Research</td>\n",
       "      <td>40000</td>\n",
       "      <td>1992-09-19</td>\n",
       "      <td>1993-08-22</td>\n",
       "    </tr>\n",
       "  </tbody>\n",
       "</table>\n",
       "</div>"
      ],
      "text/plain": [
       "   employee_no  last_name first_name               title   department salary  \\\n",
       "0        10001    Facello     Georgi     Senior Engineer  Development  60117   \n",
       "1        10004    Koblick  Chirstian     Senior Engineer   Production  40054   \n",
       "2        10008   Kalloufi     Saniya  Assistant Engineer  Development  46671   \n",
       "3        10012  Bridgland   Patricio     Senior Engineer  Development  40000   \n",
       "4        10015  Nooteboom   Guoxiang        Senior Staff     Research  40000   \n",
       "\n",
       "   start_date    end_date  \n",
       "0  1986-06-26  1987-06-26  \n",
       "1  1986-12-01  1987-12-01  \n",
       "2  1998-03-11  1999-03-11  \n",
       "3  1992-12-18  1993-12-18  \n",
       "4  1992-09-19  1993-08-22  "
      ]
     },
     "execution_count": 10,
     "metadata": {},
     "output_type": "execute_result"
    }
   ],
   "source": [
    "print(df.shape)\n",
    "df.head()"
   ]
  },
  {
   "cell_type": "code",
   "execution_count": 12,
   "metadata": {},
   "outputs": [
    {
     "data": {
      "text/plain": [
       "True"
      ]
     },
     "execution_count": 12,
     "metadata": {},
     "output_type": "execute_result"
    }
   ],
   "source": [
    "# check if there are any employee records returned\n",
    "df['employee_no'].duplicated().any()"
   ]
  },
  {
   "cell_type": "code",
   "execution_count": 15,
   "metadata": {
    "scrolled": false
   },
   "outputs": [
    {
     "data": {
      "text/plain": [
       "employee_no    0\n",
       "last_name      0\n",
       "first_name     0\n",
       "title          0\n",
       "department     0\n",
       "salary         0\n",
       "start_date     0\n",
       "end_date       0\n",
       "dtype: int64"
      ]
     },
     "execution_count": 15,
     "metadata": {},
     "output_type": "execute_result"
    }
   ],
   "source": [
    "# check if there are any null values\n",
    "df.isnull().sum(axis=0)"
   ]
  },
  {
   "cell_type": "markdown",
   "metadata": {},
   "source": [
    "### Loading DataFrame Using SQL\n",
    "( is faster than SQLAlchemy query and joins )"
   ]
  },
  {
   "cell_type": "code",
   "execution_count": 74,
   "metadata": {},
   "outputs": [],
   "source": [
    "# create a SQL query to use for loading pandas dataframe\n",
    "query = \"\"\"\n",
    "        SELECT \n",
    "            e.emp_no employee_no,\n",
    "            e.last_name last_name,\n",
    "            e.first_name first_name,\n",
    "            t.title title,\n",
    "            d.dept_name department,\n",
    "            s.salary salary,\n",
    "            s.from_date start_date,\n",
    "            s.to_date end_date\n",
    "        FROM dept_emp de\n",
    "        INNER JOIN employees e on e.emp_no = de.emp_no\n",
    "        INNER JOIN departments d on d.dept_no = de.dept_no\n",
    "        INNER JOIN salaries s on s.emp_no = de.emp_no\n",
    "        INNER JOIN emp_dept_date edd ON edd.emp_no = de.emp_no AND edd.date = de.to_date\n",
    "        INNER JOIN titles t ON t.emp_no = de.emp_no\n",
    "        INNER JOIN emp_title et ON et.emp_no = de.emp_no AND et.date = t.to_date\n",
    "        ;\n",
    "        \"\"\""
   ]
  },
  {
   "cell_type": "code",
   "execution_count": 75,
   "metadata": {},
   "outputs": [],
   "source": [
    "# return query results as pandas dataframe\n",
    "df = pd.read_sql_query(query, con)"
   ]
  },
  {
   "cell_type": "code",
   "execution_count": 76,
   "metadata": {
    "scrolled": false
   },
   "outputs": [
    {
     "name": "stdout",
     "output_type": "stream",
     "text": [
      "(300033, 8)\n"
     ]
    },
    {
     "data": {
      "text/html": [
       "<div>\n",
       "<style scoped>\n",
       "    .dataframe tbody tr th:only-of-type {\n",
       "        vertical-align: middle;\n",
       "    }\n",
       "\n",
       "    .dataframe tbody tr th {\n",
       "        vertical-align: top;\n",
       "    }\n",
       "\n",
       "    .dataframe thead th {\n",
       "        text-align: right;\n",
       "    }\n",
       "</style>\n",
       "<table border=\"1\" class=\"dataframe\">\n",
       "  <thead>\n",
       "    <tr style=\"text-align: right;\">\n",
       "      <th></th>\n",
       "      <th>employee_no</th>\n",
       "      <th>last_name</th>\n",
       "      <th>first_name</th>\n",
       "      <th>title</th>\n",
       "      <th>department</th>\n",
       "      <th>salary</th>\n",
       "      <th>start_date</th>\n",
       "      <th>end_date</th>\n",
       "    </tr>\n",
       "  </thead>\n",
       "  <tbody>\n",
       "    <tr>\n",
       "      <th>0</th>\n",
       "      <td>10002</td>\n",
       "      <td>Simmel</td>\n",
       "      <td>Bezalel</td>\n",
       "      <td>Staff</td>\n",
       "      <td>Sales</td>\n",
       "      <td>65828.0</td>\n",
       "      <td>1996-08-03</td>\n",
       "      <td>1997-08-03</td>\n",
       "    </tr>\n",
       "    <tr>\n",
       "      <th>1</th>\n",
       "      <td>10001</td>\n",
       "      <td>Facello</td>\n",
       "      <td>Georgi</td>\n",
       "      <td>Senior Engineer</td>\n",
       "      <td>Development</td>\n",
       "      <td>60117.0</td>\n",
       "      <td>1986-06-26</td>\n",
       "      <td>1987-06-26</td>\n",
       "    </tr>\n",
       "    <tr>\n",
       "      <th>2</th>\n",
       "      <td>10004</td>\n",
       "      <td>Koblick</td>\n",
       "      <td>Chirstian</td>\n",
       "      <td>Senior Engineer</td>\n",
       "      <td>Production</td>\n",
       "      <td>40054.0</td>\n",
       "      <td>1986-12-01</td>\n",
       "      <td>1987-12-01</td>\n",
       "    </tr>\n",
       "    <tr>\n",
       "      <th>3</th>\n",
       "      <td>10008</td>\n",
       "      <td>Kalloufi</td>\n",
       "      <td>Saniya</td>\n",
       "      <td>Assistant Engineer</td>\n",
       "      <td>Development</td>\n",
       "      <td>46671.0</td>\n",
       "      <td>1998-03-11</td>\n",
       "      <td>1999-03-11</td>\n",
       "    </tr>\n",
       "    <tr>\n",
       "      <th>4</th>\n",
       "      <td>10012</td>\n",
       "      <td>Bridgland</td>\n",
       "      <td>Patricio</td>\n",
       "      <td>Senior Engineer</td>\n",
       "      <td>Development</td>\n",
       "      <td>40000.0</td>\n",
       "      <td>1992-12-18</td>\n",
       "      <td>1993-12-18</td>\n",
       "    </tr>\n",
       "  </tbody>\n",
       "</table>\n",
       "</div>"
      ],
      "text/plain": [
       "   employee_no  last_name first_name               title   department  \\\n",
       "0        10002     Simmel    Bezalel               Staff        Sales   \n",
       "1        10001    Facello     Georgi     Senior Engineer  Development   \n",
       "2        10004    Koblick  Chirstian     Senior Engineer   Production   \n",
       "3        10008   Kalloufi     Saniya  Assistant Engineer  Development   \n",
       "4        10012  Bridgland   Patricio     Senior Engineer  Development   \n",
       "\n",
       "    salary  start_date    end_date  \n",
       "0  65828.0  1996-08-03  1997-08-03  \n",
       "1  60117.0  1986-06-26  1987-06-26  \n",
       "2  40054.0  1986-12-01  1987-12-01  \n",
       "3  46671.0  1998-03-11  1999-03-11  \n",
       "4  40000.0  1992-12-18  1993-12-18  "
      ]
     },
     "execution_count": 76,
     "metadata": {},
     "output_type": "execute_result"
    }
   ],
   "source": [
    "# check dataframe\n",
    "print(df.shape)\n",
    "df.head()"
   ]
  },
  {
   "cell_type": "code",
   "execution_count": 106,
   "metadata": {},
   "outputs": [
    {
     "name": "stdout",
     "output_type": "stream",
     "text": [
      "Maximum Salary: 129492.0\n",
      "Lowest Salary: 40000.0\n"
     ]
    }
   ],
   "source": [
    "# figure out the lowest and highest salaries\n",
    "print(f'Maximum Salary: {df[\"salary\"].max()}')\n",
    "print(f'Lowest Salary: {df[\"salary\"].min()}')"
   ]
  },
  {
   "cell_type": "code",
   "execution_count": 111,
   "metadata": {},
   "outputs": [],
   "source": [
    "# create the bins in which the data will be held\n",
    "bins = [0, 39999, 59999, 79999, 99999, 119999, 130000]\n",
    "\n",
    "# create labels for these bins\n",
    "labels = [\"0 to 39k\", \"40k to 59k\", \"60k to 79k\", \"80k to 99k\", \"100k to 119k\", \"120k to 130k\"]"
   ]
  },
  {
   "cell_type": "code",
   "execution_count": 113,
   "metadata": {},
   "outputs": [],
   "source": [
    "# slice the salaries and place it into bins\n",
    "df['salary_group'] = pd.cut(df['salary'], bins, labels=labels)"
   ]
  },
  {
   "cell_type": "code",
   "execution_count": 140,
   "metadata": {},
   "outputs": [
    {
     "data": {
      "text/plain": [
       "title               salary_group\n",
       "Assistant Engineer  0 to 39k            0\n",
       "                    40k to 59k       4950\n",
       "                    60k to 79k        824\n",
       "                    80k to 99k         61\n",
       "                    100k to 119k        0\n",
       "                    120k to 130k        0\n",
       "Engineer            0 to 39k            0\n",
       "                    40k to 59k      40040\n",
       "                    60k to 79k       6828\n",
       "                    80k to 99k        436\n",
       "                    100k to 119k        3\n",
       "                    120k to 130k        0\n",
       "Manager             0 to 39k            0\n",
       "                    40k to 59k          7\n",
       "                    60k to 79k          2\n",
       "                    80k to 99k          0\n",
       "                    100k to 119k        0\n",
       "                    120k to 130k        0\n",
       "Senior Engineer     0 to 39k            0\n",
       "                    40k to 59k      82988\n",
       "                    60k to 79k      13879\n",
       "                    80k to 99k        872\n",
       "                    100k to 119k        8\n",
       "                    120k to 130k        0\n",
       "Senior Staff        0 to 39k            0\n",
       "                    40k to 59k      52396\n",
       "                    60k to 79k      29393\n",
       "                    80k to 99k      10176\n",
       "                    100k to 119k      865\n",
       "                    120k to 130k       16\n",
       "Staff               0 to 39k            0\n",
       "                    40k to 59k      23212\n",
       "                    60k to 79k      13069\n",
       "                    80k to 99k       4458\n",
       "                    100k to 119k      387\n",
       "                    120k to 130k        8\n",
       "Technique Leader    0 to 39k            0\n",
       "                    40k to 59k      12794\n",
       "                    60k to 79k       2233\n",
       "                    80k to 99k        127\n",
       "                    100k to 119k        1\n",
       "                    120k to 130k        0\n",
       "Name: salary, dtype: int64"
      ]
     },
     "execution_count": 140,
     "metadata": {},
     "output_type": "execute_result"
    }
   ],
   "source": [
    "# analyze salary ranges by title\n",
    "df.groupby(['title','salary_group'])['salary'].count()"
   ]
  },
  {
   "cell_type": "code",
   "execution_count": 115,
   "metadata": {},
   "outputs": [],
   "source": [
    "# create groupby object based on 'salary_group'\n",
    "salary_groups = df.groupby('salary_group')"
   ]
  },
  {
   "cell_type": "code",
   "execution_count": 141,
   "metadata": {},
   "outputs": [
    {
     "data": {
      "text/plain": [
       "salary_group\n",
       "0 to 39k             0\n",
       "40k to 59k      216387\n",
       "60k to 79k       66228\n",
       "80k to 99k       16130\n",
       "100k to 119k      1264\n",
       "120k to 130k        24\n",
       "Name: employee_no, dtype: int64"
      ]
     },
     "execution_count": 141,
     "metadata": {},
     "output_type": "execute_result"
    }
   ],
   "source": [
    "# find how many employees fall into each bin\n",
    "salary_groups['employee_no'].count()"
   ]
  },
  {
   "cell_type": "code",
   "execution_count": 158,
   "metadata": {},
   "outputs": [
    {
     "data": {
      "image/png": "[encoded data removed]",
      "text/plain": [
       "<Figure size 432x288 with 1 Axes>"
      ]
     },
     "metadata": {
      "needs_background": "light"
     },
     "output_type": "display_data"
    }
   ],
   "source": [
    "# create a histogram to visualize the most common salary ranges for employees.\n",
    "ax = salary_groups['salary'].plot.hist(bins=bins)\n",
    "\n",
    "plt.title('Most Common Salary Ranges for Employees\\n')\n",
    "plt.ylabel('Number of Employees\\n')\n",
    "plt.xlabel('\\nSalary')\n",
    "plt.legend(loc='best')\n",
    "\n",
    "plt.show()"
   ]
  },
  {
   "cell_type": "code",
   "execution_count": 26,
   "metadata": {},
   "outputs": [
    {
     "data": {
      "image/png": "[encoded data removed]",
      "text/plain": [
       "<Figure size 432x288 with 1 Axes>"
      ]
     },
     "metadata": {
      "needs_background": "light"
     },
     "output_type": "display_data"
    }
   ],
   "source": [
    "# generate a horizontal bar plot\n",
    "ax = df.groupby('title')['salary'].mean().sort_values().plot.barh(x='title', y='salary', alpha=0.6)\n",
    "ax.set_title('Average Salaries by Job Titles\\n')\n",
    "ax.set_ylabel('')\n",
    "ax.set_xlabel('\\nSalary')\n",
    "ax.set_xlim((0,df.groupby('title')['salary'].mean().max()+(df.groupby('title')['salary'].mean().max()*.05)))\n",
    "\n",
    "plt.show()"
   ]
  },
  {
   "cell_type": "code",
   "execution_count": 58,
   "metadata": {},
   "outputs": [
    {
     "data": {
      "image/png": "[encoded data removed]",
      "text/plain": [
       "<Figure size 432x288 with 1 Axes>"
      ]
     },
     "metadata": {
      "needs_background": "light"
     },
     "output_type": "display_data"
    }
   ],
   "source": [
    "# generate a horizontal bar plot\n",
    "ax = df.groupby('department')['salary'].mean().sort_values().plot.barh(x='department', y='salary', colormap='ocean', alpha=.6)\n",
    "ax.set_title('Average Salaries by Departments\\n')\n",
    "ax.set_ylabel('')\n",
    "ax.set_xlabel('\\nSalary')\n",
    "ax.set_xlim((0,df.groupby('department')['salary'].mean().max()+(df.groupby('department')['salary'].mean().max()*.05)))\n",
    "\n",
    "plt.show()"
   ]
  }
 ],
 "metadata": {
  "kernelspec": {
   "display_name": "Python 3",
   "language": "python",
   "name": "python3"
  },
  "language_info": {
   "codemirror_mode": {
    "name": "ipython",
    "version": 3
   },
   "file_extension": ".py",
   "mimetype": "text/x-python",
   "name": "python",
   "nbconvert_exporter": "python",
   "pygments_lexer": "ipython3",
   "version": "3.7.6"
  }
 },
 "nbformat": 4,
 "nbformat_minor": 4
}
